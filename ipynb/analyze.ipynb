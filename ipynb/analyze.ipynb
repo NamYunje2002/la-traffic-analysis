{
 "cells": [
  {
   "cell_type": "markdown",
   "metadata": {},
   "source": [
    "#### 1. 데이터 로드"
   ]
  },
  {
   "cell_type": "code",
   "execution_count": 3,
   "metadata": {},
   "outputs": [],
   "source": [
    "import pandas as pd\n",
    "\n",
    "speed_data = pd.read_csv('../dataset/predicted_speed.csv')\n",
    "collision_data = pd.read_csv('../dataset/collision.csv')\n",
    "sensor_location_data = pd.read_csv('../dataset/graph_sensor_locations.csv')"
   ]
  },
  {
   "cell_type": "markdown",
   "metadata": {},
   "source": [
    "#### 2. 데이터 전처리"
   ]
  },
  {
   "cell_type": "markdown",
   "metadata": {},
   "source": [
    "2-1. 시간 형식 통일"
   ]
  },
  {
   "cell_type": "code",
   "execution_count": 4,
   "metadata": {},
   "outputs": [],
   "source": [
    "speed_data['datetime'] = pd.to_datetime(speed_data['Date Occurred'])\n",
    "collision_data['datetime'] = pd.to_datetime(\n",
    "    collision_data['Date Occurred'] + ' ' + collision_data['Time Occurred'], format='%Y-%m-%d %H:%M'\n",
    ")"
   ]
  },
  {
   "cell_type": "markdown",
   "metadata": {},
   "source": [
    "2-2. 센서 ID 매핑"
   ]
  },
  {
   "cell_type": "code",
   "execution_count": 5,
   "metadata": {},
   "outputs": [],
   "source": [
    "from geopy.distance import geodesic\n",
    "\n",
    "def find_nearest_sensor(collision_lat, collision_lon, sensor_data):\n",
    "    collision_location = (collision_lat, collision_lon)\n",
    "    distances = sensor_data.apply(\n",
    "        lambda row: geodesic(collision_location, (row['latitude'], row['longitude'])).meters, axis=1\n",
    "    )\n",
    "    nearest_sensor = sensor_data.loc[distances.idxmin()]\n",
    "    return nearest_sensor['sensor_id'], distances.min()\n",
    "\n",
    "collision_data[['nearest_sensor_id', 'distance_to_sensor']] = collision_data.apply(\n",
    "    lambda row: find_nearest_sensor(row['latitude'], row['longitude'], sensor_location_data),\n",
    "    axis=1, result_type='expand'\n",
    ")"
   ]
  },
  {
   "cell_type": "markdown",
   "metadata": {},
   "source": [
    "#### 3. 데이터 분석"
   ]
  },
  {
   "cell_type": "markdown",
   "metadata": {},
   "source": [
    "3-1. 사고 전후 평균 속도 및 표준 편차 계산"
   ]
  },
  {
   "cell_type": "code",
   "execution_count": 6,
   "metadata": {},
   "outputs": [],
   "source": [
    "def get_speed_changes(collision_row, speed_data):\n",
    "    sensor_id = str(int(collision_row['nearest_sensor_id']))\n",
    "    if sensor_id in speed_data.columns:\n",
    "        sensor_col = sensor_id\n",
    "        accident_time = collision_row['datetime']\n",
    "\n",
    "        time_window = speed_data[\n",
    "            (speed_data['datetime'] >= accident_time - pd.Timedelta(hours=1)) &\n",
    "            (speed_data['datetime'] <= accident_time + pd.Timedelta(hours=1))\n",
    "        ]\n",
    "        speeds = time_window[sensor_col].dropna() if sensor_col in time_window.columns else None\n",
    "\n",
    "        if speeds is not None and len(speeds) > 0:\n",
    "            return speeds.mean(), speeds.std()\n",
    "    return None, None\n",
    "\n",
    "collision_data[['mean_speed', 'speed_std_dev']] = collision_data.apply(\n",
    "    lambda row: get_speed_changes(row, speed_data), axis=1, result_type='expand'\n",
    ")"
   ]
  },
  {
   "cell_type": "markdown",
   "metadata": {},
   "source": [
    "3-2. 사고 전후 속도 변화 계산"
   ]
  },
  {
   "cell_type": "code",
   "execution_count": 7,
   "metadata": {},
   "outputs": [],
   "source": [
    "def calculate_speed_change(collision_row, speed_data):\n",
    "    sensor_id = str(int(collision_row['nearest_sensor_id']))\n",
    "    if sensor_id in speed_data.columns:\n",
    "        sensor_col = sensor_id\n",
    "        accident_time = collision_row['datetime']\n",
    "\n",
    "        pre_accident = speed_data[\n",
    "            (speed_data['datetime'] >= accident_time - pd.Timedelta(hours=1)) &\n",
    "            (speed_data['datetime'] < accident_time)\n",
    "        ]\n",
    "        post_accident = speed_data[\n",
    "            (speed_data['datetime'] > accident_time) &\n",
    "            (speed_data['datetime'] <= accident_time + pd.Timedelta(hours=1))\n",
    "        ]\n",
    "\n",
    "        if sensor_col in pre_accident.columns and sensor_col in post_accident.columns:\n",
    "            pre_speed = pre_accident[sensor_col].dropna()\n",
    "            post_speed = post_accident[sensor_col].dropna()\n",
    "\n",
    "            if len(pre_speed) > 0 and len(post_speed) > 0:\n",
    "                return pre_speed.mean(), post_speed.mean(), post_speed.mean() - pre_speed.mean()\n",
    "    return None, None, None\n",
    "\n",
    "collision_data[['pre_speed_mean', 'post_speed_mean', 'speed_change']] = collision_data.apply(\n",
    "    lambda row: calculate_speed_change(row, speed_data), axis=1, result_type='expand'\n",
    ")"
   ]
  },
  {
   "cell_type": "markdown",
   "metadata": {},
   "source": [
    "#### 4. 분석 결과 요약"
   ]
  },
  {
   "cell_type": "code",
   "execution_count": 8,
   "metadata": {},
   "outputs": [],
   "source": [
    "import numpy as np\n",
    "\n",
    "def calculate_speed_change(collision_row, speed_data):\n",
    "    sensor_id = str(int(collision_row['nearest_sensor_id']))\n",
    "    if sensor_id in speed_data.columns:\n",
    "        sensor_col = sensor_id\n",
    "        accident_time = collision_row['datetime']\n",
    "\n",
    "        pre_accident = speed_data[\n",
    "            (speed_data['datetime'] >= accident_time - pd.Timedelta(hours=1)) &\n",
    "            (speed_data['datetime'] < accident_time)\n",
    "        ]\n",
    "\n",
    "        post_accident = speed_data[\n",
    "            (speed_data['datetime'] > accident_time) &\n",
    "            (speed_data['datetime'] <= accident_time + pd.Timedelta(hours=1))\n",
    "        ]\n",
    "\n",
    "        if sensor_col in pre_accident.columns and sensor_col in post_accident.columns:\n",
    "            pre_speed = pre_accident[sensor_col].dropna()\n",
    "            post_speed = post_accident[sensor_col].dropna()\n",
    "\n",
    "            if len(pre_speed) > 0 and len(post_speed) > 0:\n",
    "                # Calculate mean speeds and their difference\n",
    "                pre_mean = pre_speed.mean()\n",
    "                post_mean = post_speed.mean()\n",
    "                return pre_mean, post_mean, post_mean - pre_mean\n",
    "    return None, None, None\n",
    "\n",
    "collision_data[['pre_speed_mean', 'post_speed_mean', 'speed_change']] = collision_data.apply(\n",
    "    lambda row: calculate_speed_change(row, speed_data), axis=1, result_type='expand'\n",
    ")\n",
    "\n",
    "speed_change_summary = collision_data[['pre_speed_mean', 'post_speed_mean', 'speed_change']].describe()\n",
    "\n",
    "output_file_path = '../dataset/collision_predicted_speed_data.csv'\n",
    "collision_data[['pre_speed_mean', 'post_speed_mean', 'speed_change']].to_csv(output_file_path, index=False)"
   ]
  }
 ],
 "metadata": {
  "kernelspec": {
   "display_name": "venv",
   "language": "python",
   "name": "python3"
  },
  "language_info": {
   "codemirror_mode": {
    "name": "ipython",
    "version": 3
   },
   "file_extension": ".py",
   "mimetype": "text/x-python",
   "name": "python",
   "nbconvert_exporter": "python",
   "pygments_lexer": "ipython3",
   "version": "3.12.6"
  }
 },
 "nbformat": 4,
 "nbformat_minor": 2
}
